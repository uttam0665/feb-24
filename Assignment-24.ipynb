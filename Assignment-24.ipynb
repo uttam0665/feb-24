{
 "cells": [
  {
   "cell_type": "code",
   "execution_count": null,
   "id": "f7b0f921",
   "metadata": {},
   "outputs": [],
   "source": [
    "Q1. List any five functions of the pandas library with execution.\n",
    "Ans:\n",
    "    \n",
    "Here are five functions of the pandas library with their executions:\n",
    "\n",
    "1.read_csv(): This function is used to read data from a CSV file and create a DataFrame.\n",
    "    For example:\n",
    "        \n",
    "import pandas as pd\n",
    "data = pd.read_csv(\"data.csv\")\n",
    "\n",
    "2.head(): This function is used to display the first few rows of a DataFrame.\n",
    "    For example:\n",
    "        \n",
    "print(data.head())\n",
    "\n",
    "3.groupby(): This function is used to group data in a DataFrame by one or more columns.\n",
    "    For example:\n",
    "\n",
    "grouped_data = data.groupby(['Category', 'Sub-Category'])\n",
    "\n",
    "4.merge(): This function is used to merge two or more DataFrames on a common column. \n",
    "    For example:\n",
    "        \n",
    "df1 = pd.DataFrame({'key': ['A', 'B', 'C', 'D'], 'value': [1, 2, 3, 4]})\n",
    "df2 = pd.DataFrame({'key': ['B', 'D', 'E', 'F'], 'value': [5, 6, 7, 8]})\n",
    "merged_df = pd.merge(df1, df2, on='key')\n",
    "\n",
    "5.pivot_table(): This function is used to create a pivot table from a DataFrame.\n",
    "    For example:\n",
    "\n",
    "pivot_table = pd.pivot_table(data, values='Sales', index=['Region'], columns=['Category'], aggfunc=np.sum)\n",
    "\n",
    "\n",
    "\n",
    "\n",
    "\n",
    "        "
   ]
  },
  {
   "cell_type": "code",
   "execution_count": 2,
   "id": "ad3c3356",
   "metadata": {},
   "outputs": [
    {
     "name": "stdout",
     "output_type": "stream",
     "text": [
      "           A  B  C\n",
      "new_index         \n",
      "-1         1  4  7\n",
      " 1         2  5  8\n",
      " 3         3  6  9\n"
     ]
    }
   ],
   "source": [
    "Q2. Given a Pandas DataFrame df with columns 'A', 'B', and 'C', write a Python function to re-index the\n",
    "DataFrame with a new index that starts from 1 and increments by 2 for each row.\n",
    "Ans:-\n",
    "    \n",
    "You can use the set_index() method of Pandas DataFrame along with a lambda function to create a new index for the DataFrame as follows:\n",
    "python\n",
    "   \n",
    "import pandas as pd\n",
    "\n",
    "def reindex_df(df):\n",
    "    new_index = lambda x: x * 2 - 1 # lambda function to generate new index\n",
    "    df = df.set_index(df.index.map(new_index)) # set new index using set_index() method\n",
    "    df.index.name = 'new_index' # set name for new index\n",
    "    return df\n",
    "\n",
    "In this function, the lambda function new_index takes the current index value and generates a new index value by multiplying it by 2 and subtracting 1.\n",
    "The map() method is used to apply this function to each element of the DataFrame index.\n",
    "Then the set_index() method is used to set the new index for the DataFrame. Finally, the index.name attribute is set to 'new_index' to name the new index.\n",
    "You can call this function with your DataFrame df as an argument:\n",
    "\n",
    "\n",
    "df = pd.DataFrame({'A': [1, 2, 3], 'B': [4, 5, 6], 'C': [7, 8, 9]})\n",
    "reindexed_df = reindex_df(df)\n",
    "print(reindexed_df)\n",
    "    \n",
    "Here, the new index starts from 1 and increments by 2 for each row, as desired.\n",
    "\n",
    "\n",
    "\n",
    "    "
   ]
  },
  {
   "cell_type": "code",
   "execution_count": 6,
   "id": "38db29f6",
   "metadata": {},
   "outputs": [
    {
     "name": "stdout",
     "output_type": "stream",
     "text": [
      "The sum of the first three values is: 60\n"
     ]
    }
   ],
   "source": [
    "'''Q3. You have a Pandas DataFrame df with a column named 'Values'. Write a Python function that\n",
    "iterates over the DataFrame and calculates the sum of the first three values in the 'Values' column. The\n",
    "function should print the sum to the console.\n",
    "Ans:-\n",
    " \n",
    "You can use the iloc indexer to select the first three values of the 'Values' column and then use the sum method to calculate their sum. \n",
    "Here's an example function that does that:'''\n",
    "\n",
    "import pandas as pd\n",
    "def sum_first_three_values(df):\n",
    "    first_three_values = df['Values'].iloc[:3]\n",
    "    total_sum = first_three_values.sum()\n",
    "    print(f\"The sum of the first three values is: {total_sum}\")\n",
    "\n",
    "#You can call this function with your DataFrame df as an argument:\n",
    "\n",
    "df = pd.DataFrame({'Values': [10, 20, 30, 40, 50]})\n",
    "sum_first_three_values(df)\n",
    "\n",
    "        "
   ]
  },
  {
   "cell_type": "code",
   "execution_count": 7,
   "id": "264fde65",
   "metadata": {},
   "outputs": [
    {
     "name": "stdout",
     "output_type": "stream",
     "text": [
      "                                     Text  Word_Count\n",
      "0                   This is the first row           5\n",
      "1  This is the second row with more words           8\n"
     ]
    }
   ],
   "source": [
    "'''Q4. Given a Pandas DataFrame df with a column 'Text', write a Python function to create a new column\n",
    "'Word_Count' that contains the number of words in each row of the 'Text' column.\n",
    "Ans:-\n",
    "    \n",
    "You can create a Python function to count the number of words in each row of the 'Text' column of a Pandas DataFrame as follows:\n",
    "python'''\n",
    "\n",
    "import pandas as pd\n",
    "\n",
    "def count_words(df, column_name):\n",
    "    \n",
    " # Use the split() method to split the text into a list of words\n",
    "    df['Word_Count'] = df[column_name].apply(lambda x: len(str(x).split()))\n",
    "    return df\n",
    "\n",
    "df = pd.DataFrame({'Text': ['This is the first row', 'This is the second row with more words']})\n",
    "df = count_words(df, 'Text')\n",
    "print(df)\n",
    "\n",
    "'''In this example, the count_words() function takes a DataFrame and a column name as arguments.\n",
    "It uses the apply() method to apply a lambda function to each row of the specified column. \n",
    "The lambda function uses the split() method to split the text into a list of words and returns the length of that list, which represents the number of words in that row. \n",
    "The resulting values are then stored in a new column called 'Word_Count'.'''"
   ]
  },
  {
   "cell_type": "code",
   "execution_count": null,
   "id": "71f42968",
   "metadata": {},
   "outputs": [],
   "source": [
    "Q5.How are DataFrame.size() and DataFrame.shape() different?\n",
    "Ans:-\n",
    "\n",
    "DataFrame.size and DataFrame.shape are both methods in Pandas that provide information about the shape of a DataFrame, but they provide different information.\n",
    "\n",
    "DataFrame.shape returns a tuple with the dimensions of the DataFrame. For example, if df is a DataFrame with 10 rows and 5 columns, df.shape will return (10, 5). The first element in the tuple is the number of rows and the second element is the number of columns.\n",
    "\n",
    "DataFrame.size, on the other hand, returns the total number of elements in the DataFrame, which is the product of the number of rows and columns. For example, if df has 10 rows and 5 columns, df.size will return 50, which is the total number of elements in the DataFrame.\n",
    "\n",
    "Therefore, DataFrame.shape provides information about the dimensions of the DataFrame, while DataFrame.size provides information about the total number of elements in the DataFrame.\n",
    "\n",
    "DataFrame.size and DataFrame.shape are both methods in Pandas that provide information about the shape of a DataFrame, but they provide different information.\n",
    "\n",
    "DataFrame.shape returns a tuple with the dimensions of the DataFrame. For example, if df is a DataFrame with 10 rows and 5 columns, df.shape will return (10, 5). The first element in the tuple is the number of rows and the second element is the number of columns.\n",
    "\n",
    "DataFrame.size, on the other hand, returns the total number of elements in the DataFrame, which is the product of the number of rows and columns. For example, if df has 10 rows and 5 columns, df.size will return 50, which is the total number of elements in the DataFrame.\n",
    "\n",
    "Therefore, DataFrame.shape provides information about the dimensions of the DataFrame, while DataFrame.size provides information about the total number of elements in the DataFrame."
   ]
  },
  {
   "cell_type": "code",
   "execution_count": null,
   "id": "6014bd70",
   "metadata": {},
   "outputs": [],
   "source": [
    "Q6.How are DataFrame.size() and DataFrame.shape() different?\n",
    "Ans:-\n",
    "    \n",
    "In Pandas, both DataFrame.size and DataFrame.shape are attributes used to provide information about the dimensions of a DataFrame. However, they provide different types of information.\n",
    "\n",
    "DataFrame.shape returns a tuple representing the dimensions of the DataFrame, in the form (rows, columns). For example, if you have a DataFrame with 5 rows and 3 columns, df.shape will return (5, 3).\n",
    "\n",
    "On the other hand, DataFrame.size returns the total number of elements in the DataFrame, which is equal to the number of rows multiplied by the number of columns. For example, if you have a DataFrame with 5 rows and 3 columns, df.size will return 15.\n",
    "\n",
    "So, in summary, DataFrame.shape provides the number of rows and columns of a DataFrame, while DataFrame.size provides the total number of elements in the DataFrame.\n"
   ]
  },
  {
   "cell_type": "code",
   "execution_count": 9,
   "id": "aebcc163",
   "metadata": {},
   "outputs": [
    {
     "name": "stdout",
     "output_type": "stream",
     "text": [
      "                   Email   Username\n",
      "0   john.doe@example.com   john.doe\n",
      "1   jane.doe@example.com   jane.doe\n",
      "2  bob.smith@example.com  bob.smith\n"
     ]
    }
   ],
   "source": [
    "'''Q7. You have a Pandas DataFrame df that contains a column named 'Email' that contains email\n",
    "addresses in the format 'username@domain.com'. Write a Python function that creates a new column\n",
    "'Username' in df that contains only the username part of each email address.\n",
    "\n",
    "You can use the apply() method in combination with a lambda function to extract the username from each email address in the 'Email' column and store it in a new column 'Username'.\n",
    "Here's an example code snippet that accomplishes this:'''\n",
    "\n",
    "\n",
    "import pandas as pd\n",
    "df = pd.DataFrame({'Email': ['john.doe@example.com', 'jane.doe@example.com', 'bob.smith@example.com']})\n",
    "def extract_username(email):\n",
    "    return email.split('@')[0]\n",
    "df['Username'] = df['Email'].apply(lambda x: extract_username(x))\n",
    "print(df)\n"
   ]
  },
  {
   "cell_type": "code",
   "execution_count": null,
   "id": "d2cb36dc",
   "metadata": {},
   "outputs": [],
   "source": [
    "'''Q8. You have a Pandas DataFrame df with columns 'A', 'B', and 'C'. Write a Python function that selects\n",
    "all rows where the value in column 'A' is greater than 5 and the value in column 'B' is less than 10. The\n",
    "function should return a new DataFrame that contains only the selected rows.\n",
    "For example, if df contains the following values:\n",
    "A B C\n",
    "0 3 5 1\n",
    "1 8 2 7\n",
    "2 6 9 4\n",
    "3 2 3 5\n",
    "4 9 1 2\n",
    "\n",
    "Assignment\n",
    "\n",
    "Data Science Masters\n",
    "\n",
    "Your function should select the following rows: A B C\n",
    "1 8 2 7\n",
    "4 9 1 2\n",
    "The function should return a new DataFrame that contains only the selected rows.'''\n",
    "#Ans:-\n",
    "#You can use boolean indexing to select the rows that satisfy the given conditions and create a new DataFrame from the selected rows. Here is the Python function that does that:\n",
    "\n",
    "import pandas as pd\n",
    "def select_rows(df):\n",
    "    selected_rows = df[(df['A'] > 5) & (df['B'] < 10)]\n",
    "    return selected_rows\n",
    "\n",
    "#You can call this function with your DataFrame df as an argument\n",
    "selected_df = select_rows(df)\n",
    "\n",
    "   A  B  C\n",
    "1  8  2  7\n",
    "4  9  1  2\n"
   ]
  },
  {
   "cell_type": "code",
   "execution_count": 17,
   "id": "4b02cc31",
   "metadata": {},
   "outputs": [
    {
     "name": "stdout",
     "output_type": "stream",
     "text": [
      "Mean: 3.0\n",
      "Median: 3.0\n",
      "Standard Deviation: 1.5811388300841898\n"
     ]
    }
   ],
   "source": [
    "'''Q9. Given a Pandas DataFrame df with a column 'Values', write a Python function to calculate the mean,\n",
    "median, and standard deviation of the values in the 'Values' column.\n",
    "Ans:-\n",
    "You can use the following Python function to calculate the mean, median, and standard deviation of a DataFrame column named 'Values':\n",
    "'''\n",
    "import pandas as pd\n",
    "def calculate_stats(df):\n",
    "    values = df['Values']\n",
    "    mean = values.mean()\n",
    "    median = values.median()\n",
    "    std_dev = values.std()\n",
    "    return mean, median, std_dev\n",
    "\n",
    "df = pd.DataFrame({'Values': [1, 2, 3, 4, 5]})\n",
    "mean, median, std_dev = calculate_stats(df)\n",
    "print(\"Mean:\", mean)\n",
    "print(\"Median:\", median)\n",
    "print(\"Standard Deviation:\", std_dev)\n"
   ]
  },
  {
   "cell_type": "code",
   "execution_count": null,
   "id": "19de1710",
   "metadata": {},
   "outputs": [],
   "source": [
    "Q10. Given a Pandas DataFrame df with a column 'Sales' and a column 'Date', write a Python function to\n",
    "create a new column 'MovingAverage' that contains the moving average of the sales for the past 7 days\n",
    "for each row in the DataFrame. The moving average should be calculated using a window of size 7 and\n",
    "should include the current day.\n",
    "Ans:-\n",
    "    \n",
    "You can use the rolling() method of Pandas DataFrame to calculate the moving average of sales for the past 7 days.\n",
    "Here's a Python function that creates a new column 'MovingAverage' in the DataFrame:    \n",
    "    \n",
    "import pandas as pd\n",
    "\n",
    "def add_moving_average(df):\n",
    "    window_size = 7\n",
    "    ma_column_name = 'MovingAverage'\n",
    "    df[ma_column_name] = df['Sales'].rolling(window_size, min_periods=1).mean()\n",
    "    return df\n",
    "\n",
    "\n",
    "The rolling() method with window_size=7 calculates the rolling mean (moving average) of 'Sales' for the past 7 days, and min_periods=1 ensures that the first row of the new column has a moving average based on the first sales value. Finally, the new column is added to the DataFrame and returned.\n",
    "\n",
    "\n",
    "\n",
    "\n",
    "    "
   ]
  },
  {
   "cell_type": "code",
   "execution_count": 31,
   "id": "83ab4fcb",
   "metadata": {},
   "outputs": [
    {
     "name": "stdout",
     "output_type": "stream",
     "text": [
      "        Date\n",
      "0 2023-01-01\n",
      "1 2023-01-02\n",
      "2 2023-01-03\n",
      "3 2023-01-04\n",
      "4 2023-01-05\n"
     ]
    }
   ],
   "source": [
    "'''Q11. You have a Pandas DataFrame df with a column 'Date'. Write a Python function that creates a new\n",
    "column 'Weekday' in the DataFrame. The 'Weekday' column should contain the weekday name (e.g.\n",
    "Monday, Tuesday) corresponding to each date in the 'Date' column.\n",
    "For example, if df contains the following values:\n",
    "Date\n",
    "0 2023-01-01\n",
    "1 2023-01-02\n",
    "2 2023-01-03\n",
    "3 2023-01-04\n",
    "4 2023-01-05\n",
    "Your function should create the following DataFrame:\n",
    "\n",
    "Date Weekday\n",
    "0 2023-01-01 Sunday\n",
    "1 2023-01-02 Monday\n",
    "2 2023-01-03 Tuesday\n",
    "3 2023-01-04 Wednesday\n",
    "4 2023-01-05 Thursday\n",
    "The function should return the modified DataFrame.'''\n",
    "#Ans:-\n",
    "#You can use the Pandas dt.weekday_name attribute to extract the weekday name from the date and create a new column. Here's an example function:    \n",
    "\n",
    "import pandas as pd\n",
    "def add_weekday_column(df):\n",
    "    df['Weekday'] = df['Date'].dt.weekday_name\n",
    "    return df\n",
    "    df = pd.DataFrame({'Date': pd.date_range(start='2023-01-01', end='2023-01-05')})\n",
    "    df = add_weekday_column(df)\n",
    "print(df)\n"
   ]
  },
  {
   "cell_type": "code",
   "execution_count": null,
   "id": "e3a96882",
   "metadata": {},
   "outputs": [],
   "source": [
    "Q12. Given a Pandas DataFrame df with a column 'Date' that contains timestamps, write a Python\n",
    "function to select all rows where the date is between '2023-01-01' and '2023-01-31'.\n",
    "Ans:-\n",
    "    \n",
    "You can use Pandas' DataFrame.loc method to select rows based on a condition. To select all rows where the date is between '2023-01-01' and '2023-01-31', you can create a Boolean mask using the & (and) operator to combine two conditions: \n",
    "one that checks if the date is greater than or equal to '2023-01-01', and another that checks if the date is less than or equal to '2023-01-31'.\n",
    "Here's the Python function that selects all rows where the date is between '2023-01-01' and '2023-01-31':  \n",
    "\n",
    "import pandas as pd\n",
    "def select_rows_between_dates(df):\n",
    "    start_date = '2023-01-01'\n",
    "    end_date = '2023-01-31'\n",
    "    mask = (df['Date'] >= start_date) & (df['Date'] <= end_date)\n",
    "    selected_rows = df.loc[mask]\n",
    "    return selected_rows\n",
    "\n",
    "In this function, start_date and end_date are defined as strings representing the start and end dates of the range you want to select.\n",
    "The mask variable is created by combining two conditions using the & operator. Finally, the loc method is used to select the rows where the mask is True, and the selected rows are returned.\n"
   ]
  },
  {
   "cell_type": "code",
   "execution_count": null,
   "id": "a177dbc0",
   "metadata": {},
   "outputs": [],
   "source": [
    "Q13. To use the basic functions of pandas, what is the first and foremost necessary library that needs to\n",
    "be imported?\n",
    "Ans:-\n",
    "    \n",
    "The first and foremost necessary library to import for using the basic functions of pandas is pandas itself.\n",
    "This can be done in Python by using the following statement:\n",
    "\n",
    "import pandas as pd\n",
    "   \n",
    "This statement imports the pandas library and sets an alias for it as \"pd\". The alias is commonly used in pandas code examples to refer to the pandas library.\n",
    "Once the library is imported, you can start using the various functions and methods provided by pandas to manipulate and analyze data.    "
   ]
  }
 ],
 "metadata": {
  "kernelspec": {
   "display_name": "Python 3 (ipykernel)",
   "language": "python",
   "name": "python3"
  },
  "language_info": {
   "codemirror_mode": {
    "name": "ipython",
    "version": 3
   },
   "file_extension": ".py",
   "mimetype": "text/x-python",
   "name": "python",
   "nbconvert_exporter": "python",
   "pygments_lexer": "ipython3",
   "version": "3.9.13"
  }
 },
 "nbformat": 4,
 "nbformat_minor": 5
}
